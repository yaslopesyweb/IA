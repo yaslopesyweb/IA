{
  "nbformat": 4,
  "nbformat_minor": 0,
  "metadata": {
    "colab": {
      "provenance": []
    },
    "kernelspec": {
      "name": "python3",
      "display_name": "Python 3"
    },
    "language_info": {
      "name": "python"
    }
  },
  "cells": [
    {
      "cell_type": "code",
      "execution_count": null,
      "metadata": {
        "id": "h6B2ZV1V4jPt",
        "colab": {
          "base_uri": "https://localhost:8080/"
        },
        "outputId": "56d9d468-f049-4fa7-d9b9-5154139df4dc"
      },
      "outputs": [
        {
          "output_type": "stream",
          "name": "stdout",
          "text": [
            "Downloading data from https://storage.googleapis.com/tensorflow/tf-keras-datasets/mnist.npz\n",
            "11490434/11490434 [==============================] - 0s 0us/step\n",
            "Epoch 1/5\n",
            "938/938 [==============================] - 60s 61ms/step - loss: 0.1845 - accuracy: 0.9437\n",
            "Epoch 2/5\n",
            "938/938 [==============================] - 52s 55ms/step - loss: 0.0525 - accuracy: 0.9833\n",
            "Epoch 3/5\n",
            "938/938 [==============================] - 50s 53ms/step - loss: 0.0356 - accuracy: 0.9884\n",
            "Epoch 4/5\n",
            "938/938 [==============================] - 50s 53ms/step - loss: 0.0279 - accuracy: 0.9911\n",
            "Epoch 5/5\n",
            "938/938 [==============================] - 50s 53ms/step - loss: 0.0221 - accuracy: 0.9927\n",
            "313/313 [==============================] - 3s 9ms/step - loss: 0.0303 - accuracy: 0.9912\n",
            "Test accuracy: 0.9911999702453613\n"
          ]
        }
      ],
      "source": [
        "import tensorflow as tf\n",
        "from tensorflow.keras import layers, models\n",
        "from tensorflow.keras.datasets import mnist\n",
        "\n",
        "# Carregar conjunto de dados MNIST\n",
        "(train_images, train_labels), (test_images, test_labels) = mnist.load_data()\n",
        "\n",
        "# Pré-processamento dos dados\n",
        "train_images = train_images.reshape((60000, 28, 28, 1)).astype('float32') / 255\n",
        "test_images = test_images.reshape((10000, 28, 28, 1)).astype('float32') / 255\n",
        "\n",
        "# Construir a rede neural\n",
        "model = models.Sequential([\n",
        "    layers.Conv2D(32, (3, 3), activation='relu', input_shape=(28, 28, 1)),\n",
        "    layers.MaxPooling2D((2, 2)),\n",
        "    layers.Conv2D(64, (3, 3), activation='relu'),\n",
        "    layers.MaxPooling2D((2, 2)),\n",
        "    layers.Conv2D(64, (3, 3), activation='relu'),\n",
        "    layers.Flatten(),\n",
        "    layers.Dense(64, activation='relu'),\n",
        "    layers.Dense(10, activation='softmax')  # 10 classes para os dígitos de 0 a 9\n",
        "])\n",
        "\n",
        "# Compilar o modelo\n",
        "model.compile(optimizer='adam',\n",
        "              loss='sparse_categorical_crossentropy',\n",
        "              metrics=['accuracy'])\n",
        "\n",
        "# Treinar o modelo\n",
        "model.fit(train_images, train_labels, epochs=5, batch_size=64, verbose=1)\n",
        "\n",
        "# Avaliar o modelo\n",
        "test_loss, test_acc = model.evaluate(test_images, test_labels)\n",
        "print('Test accuracy:', test_acc)"
      ]
    },
    {
      "cell_type": "code",
      "source": [
        "import numpy as np\n",
        "from PIL import Image\n",
        "\n",
        "#1º No Paint, selecione a opção \"Alongar e distorcer\" e deixe na opção 28 por 28\n",
        "#Ou algum tamanho que seja igual em ambos os lados.\n",
        "#2º Pinte o fundo de preto\n",
        "#3º Desenhe um número entre 1 e 9 de branco.\n",
        "#4º Salve a imagem como jpeg\n",
        "#5º Faça o upload da mesma no collab\n",
        "#6º Copie seu caminho selecionando os 3 pontinhos que fica no arquivo\n",
        "#7º Informando o caminho da figura e dando um nome a ela\n",
        "\n",
        "imagem_path = '/content/meunumero.jpg' #insira o caminho da sua imagem aqui\n",
        "\n",
        "def preprocess_image(imagem_path):\n",
        "  image = Image.open(imagem_path).convert('L') #Converte em cinza\n",
        "  image = image.resize((28,28)) #Redimensiona para 28 por 28px\n",
        "  image = np.array(image) # Convertendo em um array\n",
        "  image = image.reshape(1, 28, 28, 1).astype('float32')/255 #Adicionando dimensão e normalizando\n",
        "  return image\n",
        "\n",
        "def predict_image_label(imagem_path, model):\n",
        "  image = preprocess_image(imagem_path) #Pre processar a imagem\n",
        "  prediction = model.predict(image) # Prever a classe\n",
        "  predicted_class = np.argmax(prediction)\n",
        "  predicted_label = labels[predicted_class]\n",
        "  return predicted_label\n",
        "\n",
        "#Rotulos que serão associados a imagem\n",
        "labels = ['Zero', 'Um', 'Dois', 'Tres', 'Quatro', 'Cinco', 'Seis', 'Sete', 'Oito', 'Nove']\n",
        "\n",
        "#Prever o rotulo da imagem\n",
        "predicted_label = predict_image_label(imagem_path, model)\n",
        "print(\"O numero que eu fiz foi:\", predicted_label)"
      ],
      "metadata": {
        "colab": {
          "base_uri": "https://localhost:8080/"
        },
        "id": "Tq33vJa25Chr",
        "outputId": "11e7b691-d24e-4441-9e4e-2f18fbfd5123"
      },
      "execution_count": 9,
      "outputs": [
        {
          "output_type": "stream",
          "name": "stdout",
          "text": [
            "1/1 [==============================] - 0s 20ms/step\n",
            "O numero que eu fiz foi: Tres\n"
          ]
        }
      ]
    }
  ]
}